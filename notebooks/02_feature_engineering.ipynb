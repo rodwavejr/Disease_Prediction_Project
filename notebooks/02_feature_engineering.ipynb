{
 "cells": [
  {
   "cell_type": "markdown",
   "metadata": {},
   "source": [
    "# Feature Engineering for Disease Prediction\n",
    "\n",
    "This notebook focuses on creating meaningful features from our raw data to improve prediction performance."
   ]
  },
  {
   "cell_type": "code",
   "execution_count": null,
   "metadata": {},
   "outputs": [],
   "source": [
    "# Import necessary libraries\n",
    "import pandas as pd\n",
    "import numpy as np\n",
    "import matplotlib.pyplot as plt\n",
    "import seaborn as sns\n",
    "from sklearn.preprocessing import StandardScaler, OneHotEncoder\n",
    "from sklearn.feature_selection import SelectKBest, f_classif\n",
    "from sklearn.decomposition import PCA\n",
    "import sys\n",
    "import os\n",
    "\n",
    "# Add the src directory to path\n",
    "sys.path.append(os.path.abspath('../src'))\n",
    "from data_processing import load_data, identify_column_types\n",
    "\n",
    "# Visualization settings\n",
    "plt.style.use('ggplot')\n",
    "sns.set(style=\"whitegrid\")\n",
    "pd.set_option('display.max_columns', None)"
   ]
  },
  {
   "cell_type": "markdown",
   "metadata": {},
   "source": [
    "## Load the Data"
   ]
  },
  {
   "cell_type": "code",
   "execution_count": null,
   "metadata": {},
   "outputs": [],
   "source": [
    "# TODO: Update the path to your actual data file\n",
    "# data_path = '../data/your_data_file.csv'\n",
    "# df = load_data(data_path)\n",
    "\n",
    "# For now, create a placeholder dataframe with more features\n",
    "n_samples = 100\n",
    "df = pd.DataFrame({\n",
    "    'patient_id': range(1, n_samples+1),\n",
    "    'age': np.random.randint(18, 90, n_samples),\n",
    "    'gender': np.random.choice(['M', 'F'], n_samples),\n",
    "    'bmi': np.random.normal(26, 5, n_samples),\n",
    "    'blood_pressure_systolic': np.random.normal(120, 15, n_samples),\n",
    "    'blood_pressure_diastolic': np.random.normal(80, 10, n_samples),\n",
    "    'cholesterol': np.random.normal(200, 30, n_samples),\n",
    "    'glucose': np.random.normal(100, 20, n_samples),\n",
    "    'smoking': np.random.choice(['never', 'former', 'current'], n_samples),\n",
    "    'alcohol': np.random.choice(['none', 'moderate', 'heavy'], n_samples),\n",
    "    'physical_activity': np.random.choice(['low', 'moderate', 'high'], n_samples),\n",
    "    'family_history': np.random.choice([0, 1], n_samples),\n",
    "    'disease_status': np.random.choice([0, 1], n_samples, p=[0.7, 0.3])\n",
    "})\n",
    "\n",
    "# Display sample data\n",
    "df.head()"
   ]
  },
  {
   "cell_type": "markdown",
   "metadata": {},
   "source": [
    "## Basic Feature Engineering\n",
    "\n",
    "Let's create some new features that might be informative for disease prediction."
   ]
  },
  {
   "cell_type": "code",
   "execution_count": null,
   "metadata": {},
   "outputs": [],
   "source": [
    "# Create a copy of the dataframe for feature engineering\n",
    "df_features = df.copy()\n",
    "\n",
    "# 1. BMI Category\n",
    "def bmi_category(bmi):\n",
    "    if bmi < 18.5:\n",
    "        return 'underweight'\n",
    "    elif bmi < 25:\n",
    "        return 'normal'\n",
    "    elif bmi < 30:\n",
    "        return 'overweight'\n",
    "    else:\n",
    "        return 'obese'\n",
    "    \n",
    "df_features['bmi_category'] = df_features['bmi'].apply(bmi_category)\n",
    "\n",
    "# 2. Blood Pressure Category\n",
    "def bp_category(systolic, diastolic):\n",
    "    if systolic < 120 and diastolic < 80:\n",
    "        return 'normal'\n",
    "    elif (systolic >= 120 and systolic < 130) and diastolic < 80:\n",
    "        return 'elevated'\n",
    "    elif (systolic >= 130 and systolic < 140) or (diastolic >= 80 and diastolic < 90):\n",
    "        return 'stage1'\n",
    "    else:\n",
    "        return 'stage2'\n",
    "    \n",
    "df_features['bp_category'] = df_features.apply(\n",
    "    lambda x: bp_category(x['blood_pressure_systolic'], x['blood_pressure_diastolic']), \n",
    "    axis=1\n",
    ")\n",
    "\n",
    "# 3. Age Groups\n",
    "df_features['age_group'] = pd.cut(\n",
    "    df_features['age'], \n",
    "    bins=[0, 30, 45, 60, 75, 100], \n",
    "    labels=['young_adult', 'adult', 'middle_age', 'senior', 'elderly']\n",
    ")\n",
    "\n",
    "# 4. Risk Score (simplified example)\n",
    "df_features['risk_score'] = (\n",
    "    (df_features['age'] > 60).astype(int) * 2 +\n",
    "    (df_features['bmi'] > 30).astype(int) * 2 +\n",
    "    (df_features['smoking'] == 'current').astype(int) * 3 +\n",
    "    (df_features['family_history'] == 1).astype(int) * 2 +\n",
    "    (df_features['blood_pressure_systolic'] > 140).astype(int) * 2\n",
    ")\n",
    "\n",
    "# Display the new features\n",
    "df_features[['age', 'age_group', 'bmi', 'bmi_category', 'bp_category', 'risk_score', 'disease_status']].head(10)"
   ]
  },
  {
   "cell_type": "markdown",
   "metadata": {},
   "source": [
    "## Encoding Categorical Features"
   ]
  },
  {
   "cell_type": "code",
   "execution_count": null,
   "metadata": {},
   "outputs": [],
   "source": [
    "# Identify column types\n",
    "numeric_columns, categorical_columns = identify_column_types(df_features)\n",
    "\n",
    "# Remove the target variable and ID\n",
    "if 'disease_status' in numeric_columns:\n",
    "    numeric_columns.remove('disease_status')\n",
    "if 'patient_id' in numeric_columns:\n",
    "    numeric_columns.remove('patient_id')\n",
    "\n",
    "print(f\"Numeric columns: {numeric_columns}\")\n",
    "print(f\"Categorical columns: {categorical_columns}\")\n",
    "\n",
    "# One-hot encode categorical variables\n",
    "df_encoded = pd.get_dummies(df_features, columns=categorical_columns, drop_first=True)\n",
    "\n",
    "# Display the encoded dataframe\n",
    "print(f\"\\nShape after encoding: {df_encoded.shape}\")\n",
    "df_encoded.head()"
   ]
  },
  {
   "cell_type": "markdown",
   "metadata": {},
   "source": [
    "## Feature Selection"
   ]
  },
  {
   "cell_type": "code",
   "execution_count": null,
   "metadata": {},
   "outputs": [],
   "source": [
    "# Separate features and target\n",
    "X = df_encoded.drop(columns=['patient_id', 'disease_status'])\n",
    "y = df_encoded['disease_status']\n",
    "\n",
    "# Select top k features based on ANOVA F-value\n",
    "k = 10  # Select top 10 features\n",
    "selector = SelectKBest(f_classif, k=k)\n",
    "X_selected = selector.fit_transform(X, y)\n",
    "\n",
    "# Get selected feature names\n",
    "selected_indices = selector.get_support(indices=True)\n",
    "selected_features = X.columns[selected_indices]\n",
    "\n",
    "# Display selected features and their scores\n",
    "feature_scores = pd.DataFrame({\n",
    "    'Feature': X.columns,\n",
    "    'Score': selector.scores_\n",
    "}).sort_values('Score', ascending=False)\n",
    "\n",
    "print(\"Top 10 features by ANOVA F-value:\")\n",
    "print(feature_scores.head(10))\n",
    "\n",
    "# Plot feature importance\n",
    "plt.figure(figsize=(12, 8))\n",
    "sns.barplot(x='Score', y='Feature', data=feature_scores.head(15))\n",
    "plt.title('Feature Importance')\n",
    "plt.tight_layout()\n",
    "plt.show()"
   ]
  },
  {
   "cell_type": "markdown",
   "metadata": {},
   "source": [
    "## Dimensionality Reduction with PCA (Optional)"
   ]
  },
  {
   "cell_type": "code",
   "execution_count": null,
   "metadata": {},
   "outputs": [],
   "source": [
    "# Standardize the features\n",
    "scaler = StandardScaler()\n",
    "X_scaled = scaler.fit_transform(X)\n",
    "\n",
    "# Apply PCA\n",
    "pca = PCA(n_components=5)  # Reduce to 5 components\n",
    "X_pca = pca.fit_transform(X_scaled)\n",
    "\n",
    "# Explained variance\n",
    "print(\"Explained variance ratio:\", pca.explained_variance_ratio_)\n",
    "print(\"Total explained variance:\", sum(pca.explained_variance_ratio_))\n",
    "\n",
    "# Plot explained variance\n",
    "plt.figure(figsize=(10, 6))\n",
    "plt.bar(range(1, 6), pca.explained_variance_ratio_)\n",
    "plt.plot(range(1, 6), np.cumsum(pca.explained_variance_ratio_), 'r-')\n",
    "plt.xlabel('Principal Component')\n",
    "plt.ylabel('Explained Variance Ratio')\n",
    "plt.title('PCA Explained Variance')\n",
    "plt.show()"
   ]
  },
  {
   "cell_type": "markdown",
   "metadata": {},
   "source": [
    "## Correlation Analysis"
   ]
  },
  {
   "cell_type": "code",
   "execution_count": null,
   "metadata": {},
   "outputs": [],
   "source": [
    "# Select only numeric columns for correlation\n",
    "numeric_df = df_encoded[numeric_columns + ['disease_status']]\n",
    "\n",
    "# Calculate correlations\n",
    "corr_matrix = numeric_df.corr()\n",
    "\n",
    "# Plot correlation heatmap\n",
    "plt.figure(figsize=(12, 10))\n",
    "mask = np.triu(np.ones_like(corr_matrix, dtype=bool))\n",
    "sns.heatmap(corr_matrix, mask=mask, cmap='coolwarm', annot=True, fmt='.2f', linewidths=0.5)\n",
    "plt.title('Feature Correlation Matrix')\n",
    "plt.tight_layout()\n",
    "plt.show()\n",
    "\n",
    "# Show correlations with target variable\n",
    "target_corr = corr_matrix['disease_status'].sort_values(ascending=False)\n",
    "print(\"Correlations with disease_status:\")\n",
    "print(target_corr)"
   ]
  },
  {
   "cell_type": "markdown",
   "metadata": {},
   "source": [
    "## Save Processed Features"
   ]
  },
  {
   "cell_type": "code",
   "execution_count": null,
   "metadata": {},
   "outputs": [],
   "source": [
    "# Create a dataframe with selected features\n",
    "df_final = pd.concat([X[selected_features], y], axis=1)\n",
    "\n",
    "# Save to CSV (commented out until real data is used)\n",
    "# df_final.to_csv('../data/processed_features.csv', index=False)\n",
    "\n",
    "print(f\"Final dataset shape: {df_final.shape}\")\n",
    "df_final.head()"
   ]
  },
  {
   "cell_type": "markdown",
   "metadata": {},
   "source": [
    "## Next Steps\n",
    "\n",
    "1. Apply these feature engineering techniques to the real dataset\n",
    "2. Explore additional domain-specific features based on medical knowledge\n",
    "3. Evaluate feature importance in the context of different modeling approaches\n",
    "4. Proceed to model building and evaluation"
   ]
  }
 ],
 "metadata": {
  "kernelspec": {
   "display_name": "Python 3",
   "language": "python",
   "name": "python3"
  },
  "language_info": {
   "codemirror_mode": {
    "name": "ipython",
    "version": 3
   },
   "file_extension": ".py",
   "mimetype": "text/x-python",
   "name": "python",
   "nbconvert_exporter": "python",
   "pygments_lexer": "ipython3",
   "version": "3.8.5"
  }
 },
 "nbformat": 4,
 "nbformat_minor": 4
}